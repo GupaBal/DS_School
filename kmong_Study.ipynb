{
 "cells": [
  {
   "cell_type": "code",
   "execution_count": 1,
   "metadata": {},
   "outputs": [
    {
     "data": {
      "text/plain": [
       "0    5\n",
       "1    1\n",
       "2    2\n",
       "3    3\n",
       "4    4\n",
       "dtype: int64"
      ]
     },
     "execution_count": 1,
     "metadata": {},
     "output_type": "execute_result"
    }
   ],
   "source": [
    "import pandas as pd\n",
    "s = pd.Series([0,1,2,3,4])\n",
    "s.replace(0,5)"
   ]
  },
  {
   "cell_type": "markdown",
   "metadata": {},
   "source": [
    "## isin (DataFrame의 각 요소가 값에 포함되어 있는지 여부.)"
   ]
  },
  {
   "cell_type": "code",
   "execution_count": 2,
   "metadata": {},
   "outputs": [
    {
     "data": {
      "text/html": [
       "<div>\n",
       "<style scoped>\n",
       "    .dataframe tbody tr th:only-of-type {\n",
       "        vertical-align: middle;\n",
       "    }\n",
       "\n",
       "    .dataframe tbody tr th {\n",
       "        vertical-align: top;\n",
       "    }\n",
       "\n",
       "    .dataframe thead th {\n",
       "        text-align: right;\n",
       "    }\n",
       "</style>\n",
       "<table border=\"1\" class=\"dataframe\">\n",
       "  <thead>\n",
       "    <tr style=\"text-align: right;\">\n",
       "      <th></th>\n",
       "      <th>num_legs</th>\n",
       "      <th>num_wings</th>\n",
       "    </tr>\n",
       "  </thead>\n",
       "  <tbody>\n",
       "    <tr>\n",
       "      <th>falcon</th>\n",
       "      <td>home.view_gig</td>\n",
       "      <td>dd</td>\n",
       "    </tr>\n",
       "    <tr>\n",
       "      <th>dog</th>\n",
       "      <td>home.view</td>\n",
       "      <td>dd</td>\n",
       "    </tr>\n",
       "  </tbody>\n",
       "</table>\n",
       "</div>"
      ],
      "text/plain": [
       "             num_legs num_wings\n",
       "falcon  home.view_gig        dd\n",
       "dog         home.view        dd"
      ]
     },
     "execution_count": 2,
     "metadata": {},
     "output_type": "execute_result"
    }
   ],
   "source": [
    "df = pd.DataFrame({'num_legs':[\"home.view_gig\",\"home.view\"], 'num_wings':[\"dd\",\"dd\"]},index=['falcon','dog'])\n",
    "df"
   ]
  },
  {
   "cell_type": "code",
   "execution_count": 3,
   "metadata": {},
   "outputs": [
    {
     "data": {
      "text/html": [
       "<div>\n",
       "<style scoped>\n",
       "    .dataframe tbody tr th:only-of-type {\n",
       "        vertical-align: middle;\n",
       "    }\n",
       "\n",
       "    .dataframe tbody tr th {\n",
       "        vertical-align: top;\n",
       "    }\n",
       "\n",
       "    .dataframe thead th {\n",
       "        text-align: right;\n",
       "    }\n",
       "</style>\n",
       "<table border=\"1\" class=\"dataframe\">\n",
       "  <thead>\n",
       "    <tr style=\"text-align: right;\">\n",
       "      <th></th>\n",
       "      <th>num_legs</th>\n",
       "      <th>num_wings</th>\n",
       "    </tr>\n",
       "  </thead>\n",
       "  <tbody>\n",
       "    <tr>\n",
       "      <th>falcon</th>\n",
       "      <td>False</td>\n",
       "      <td>False</td>\n",
       "    </tr>\n",
       "    <tr>\n",
       "      <th>dog</th>\n",
       "      <td>False</td>\n",
       "      <td>False</td>\n",
       "    </tr>\n",
       "  </tbody>\n",
       "</table>\n",
       "</div>"
      ],
      "text/plain": [
       "        num_legs  num_wings\n",
       "falcon     False      False\n",
       "dog        False      False"
      ]
     },
     "execution_count": 3,
     "metadata": {},
     "output_type": "execute_result"
    }
   ],
   "source": [
    "df.isin([0,2])"
   ]
  },
  {
   "cell_type": "markdown",
   "metadata": {},
   "source": [
    "## 0 ~ 2 사이의 값을 포함하고 있으면 True , 아니면 False "
   ]
  },
  {
   "cell_type": "code",
   "execution_count": 4,
   "metadata": {},
   "outputs": [],
   "source": [
    "import numpy as np\n",
    "new_columns = ['eventcategory.sdf','isfirstactivity..asdf']\n",
    "\n",
    "log = [new_columns].copy()\n",
    "logg = new_columns[0].split(\".\")\n"
   ]
  },
  {
   "cell_type": "code",
   "execution_count": 5,
   "metadata": {},
   "outputs": [
    {
     "name": "stdout",
     "output_type": "stream",
     "text": [
      "(434244, 19)\n"
     ]
    },
    {
     "data": {
      "text/html": [
       "<div>\n",
       "<style scoped>\n",
       "    .dataframe tbody tr th:only-of-type {\n",
       "        vertical-align: middle;\n",
       "    }\n",
       "\n",
       "    .dataframe tbody tr th {\n",
       "        vertical-align: top;\n",
       "    }\n",
       "\n",
       "    .dataframe thead th {\n",
       "        text-align: right;\n",
       "    }\n",
       "</style>\n",
       "<table border=\"1\" class=\"dataframe\">\n",
       "  <thead>\n",
       "    <tr style=\"text-align: right;\">\n",
       "      <th></th>\n",
       "      <th>eventcategory</th>\n",
       "      <th>isfirstactivity</th>\n",
       "      <th>apppackagename</th>\n",
       "      <th>appversion</th>\n",
       "      <th>devicetype</th>\n",
       "      <th>devicemanufacturer</th>\n",
       "      <th>osversion</th>\n",
       "      <th>canonicaldeviceuuid</th>\n",
       "      <th>sourcetype</th>\n",
       "      <th>channel</th>\n",
       "      <th>params_campaign</th>\n",
       "      <th>params_medium</th>\n",
       "      <th>params_term</th>\n",
       "      <th>inappeventcategory</th>\n",
       "      <th>inappeventlabel</th>\n",
       "      <th>eventdatetime</th>\n",
       "      <th>rowuuid</th>\n",
       "      <th>isfirstgoalactivity</th>\n",
       "      <th>event_rank</th>\n",
       "    </tr>\n",
       "  </thead>\n",
       "  <tbody>\n",
       "    <tr>\n",
       "      <th>0</th>\n",
       "      <td>goal</td>\n",
       "      <td>False</td>\n",
       "      <td>com.kmong.iOS</td>\n",
       "      <td>4.0.4</td>\n",
       "      <td>iPhone</td>\n",
       "      <td>Apple</td>\n",
       "      <td>iOS11.4.1</td>\n",
       "      <td>F36FAA62-ADAC-4AA5-9B00-1FD6CB7EE957</td>\n",
       "      <td>unattributed</td>\n",
       "      <td>unattributed</td>\n",
       "      <td>NaN</td>\n",
       "      <td>NaN</td>\n",
       "      <td>NaN</td>\n",
       "      <td>home.view</td>\n",
       "      <td>NaN</td>\n",
       "      <td>2018-09-28T00:00:00+09:00</td>\n",
       "      <td>fd2a188c-bc9b-4702-9c47-b546b2614817</td>\n",
       "      <td>False</td>\n",
       "      <td>True</td>\n",
       "    </tr>\n",
       "    <tr>\n",
       "      <th>1</th>\n",
       "      <td>goal</td>\n",
       "      <td>False</td>\n",
       "      <td>com.kmong.kmong</td>\n",
       "      <td>3.3.5</td>\n",
       "      <td>SM-N935S</td>\n",
       "      <td>samsung</td>\n",
       "      <td>Android7.0</td>\n",
       "      <td>8a871e50-0717-4aed-9bad-04ac3c3793be</td>\n",
       "      <td>unattributed</td>\n",
       "      <td>unattributed</td>\n",
       "      <td>NaN</td>\n",
       "      <td>NaN</td>\n",
       "      <td>NaN</td>\n",
       "      <td>gig_detail.view</td>\n",
       "      <td>41201.0</td>\n",
       "      <td>2018-09-28T00:00:00+09:00</td>\n",
       "      <td>e62dccef-dd70-4415-8a33-c8324ddaed38</td>\n",
       "      <td>False</td>\n",
       "      <td>True</td>\n",
       "    </tr>\n",
       "    <tr>\n",
       "      <th>2</th>\n",
       "      <td>goal</td>\n",
       "      <td>False</td>\n",
       "      <td>com.kmong.iOS</td>\n",
       "      <td>4.0.4</td>\n",
       "      <td>iPhone</td>\n",
       "      <td>Apple</td>\n",
       "      <td>iOS12.0</td>\n",
       "      <td>A9E5778A-8F3D-4597-9718-74BF953A9F64</td>\n",
       "      <td>unattributed</td>\n",
       "      <td>unattributed</td>\n",
       "      <td>NaN</td>\n",
       "      <td>NaN</td>\n",
       "      <td>NaN</td>\n",
       "      <td>inbox_detail.view</td>\n",
       "      <td>NaN</td>\n",
       "      <td>2018-09-28T00:00:00+09:00</td>\n",
       "      <td>14eb3197-db83-493a-b7be-83582960c40b</td>\n",
       "      <td>False</td>\n",
       "      <td>True</td>\n",
       "    </tr>\n",
       "    <tr>\n",
       "      <th>3</th>\n",
       "      <td>foreground</td>\n",
       "      <td>NaN</td>\n",
       "      <td>com.kmong.iOS</td>\n",
       "      <td>4.0.4</td>\n",
       "      <td>iPhone</td>\n",
       "      <td>Apple</td>\n",
       "      <td>iOS11.4.1</td>\n",
       "      <td>168761CB-CB67-4592-867D-52780D651297</td>\n",
       "      <td>NaN</td>\n",
       "      <td>NaN</td>\n",
       "      <td>NaN</td>\n",
       "      <td>NaN</td>\n",
       "      <td>NaN</td>\n",
       "      <td>NaN</td>\n",
       "      <td>NaN</td>\n",
       "      <td>2018-09-28T00:00:01+09:00</td>\n",
       "      <td>f9bb91af-248b-44dc-9f5c-1c00b37ea97b</td>\n",
       "      <td>NaN</td>\n",
       "      <td>True</td>\n",
       "    </tr>\n",
       "    <tr>\n",
       "      <th>4</th>\n",
       "      <td>goal</td>\n",
       "      <td>False</td>\n",
       "      <td>com.kmong.iOS</td>\n",
       "      <td>4.0.4</td>\n",
       "      <td>iPhone</td>\n",
       "      <td>Apple</td>\n",
       "      <td>iOS11.4.1</td>\n",
       "      <td>ACABB7C0-4C76-413A-B314-E5D6DA0D0E5D</td>\n",
       "      <td>viral</td>\n",
       "      <td>WEB</td>\n",
       "      <td>NaN</td>\n",
       "      <td>NaN</td>\n",
       "      <td>NaN</td>\n",
       "      <td>buyer_order_track.view</td>\n",
       "      <td>NaN</td>\n",
       "      <td>2018-09-28T00:00:02+09:00</td>\n",
       "      <td>236e9946-7801-4898-b609-06c8ab1139dc</td>\n",
       "      <td>False</td>\n",
       "      <td>True</td>\n",
       "    </tr>\n",
       "  </tbody>\n",
       "</table>\n",
       "</div>"
      ],
      "text/plain": [
       "  eventcategory isfirstactivity   apppackagename appversion devicetype  \\\n",
       "0          goal           False    com.kmong.iOS      4.0.4     iPhone   \n",
       "1          goal           False  com.kmong.kmong      3.3.5   SM-N935S   \n",
       "2          goal           False    com.kmong.iOS      4.0.4     iPhone   \n",
       "3    foreground             NaN    com.kmong.iOS      4.0.4     iPhone   \n",
       "4          goal           False    com.kmong.iOS      4.0.4     iPhone   \n",
       "\n",
       "  devicemanufacturer   osversion                   canonicaldeviceuuid  \\\n",
       "0              Apple   iOS11.4.1  F36FAA62-ADAC-4AA5-9B00-1FD6CB7EE957   \n",
       "1            samsung  Android7.0  8a871e50-0717-4aed-9bad-04ac3c3793be   \n",
       "2              Apple     iOS12.0  A9E5778A-8F3D-4597-9718-74BF953A9F64   \n",
       "3              Apple   iOS11.4.1  168761CB-CB67-4592-867D-52780D651297   \n",
       "4              Apple   iOS11.4.1  ACABB7C0-4C76-413A-B314-E5D6DA0D0E5D   \n",
       "\n",
       "     sourcetype       channel params_campaign params_medium params_term  \\\n",
       "0  unattributed  unattributed             NaN           NaN         NaN   \n",
       "1  unattributed  unattributed             NaN           NaN         NaN   \n",
       "2  unattributed  unattributed             NaN           NaN         NaN   \n",
       "3           NaN           NaN             NaN           NaN         NaN   \n",
       "4         viral           WEB             NaN           NaN         NaN   \n",
       "\n",
       "       inappeventcategory  inappeventlabel              eventdatetime  \\\n",
       "0               home.view              NaN  2018-09-28T00:00:00+09:00   \n",
       "1         gig_detail.view          41201.0  2018-09-28T00:00:00+09:00   \n",
       "2       inbox_detail.view              NaN  2018-09-28T00:00:00+09:00   \n",
       "3                     NaN              NaN  2018-09-28T00:00:01+09:00   \n",
       "4  buyer_order_track.view              NaN  2018-09-28T00:00:02+09:00   \n",
       "\n",
       "                                rowuuid isfirstgoalactivity  event_rank  \n",
       "0  fd2a188c-bc9b-4702-9c47-b546b2614817               False        True  \n",
       "1  e62dccef-dd70-4415-8a33-c8324ddaed38               False        True  \n",
       "2  14eb3197-db83-493a-b7be-83582960c40b               False        True  \n",
       "3  f9bb91af-248b-44dc-9f5c-1c00b37ea97b                 NaN        True  \n",
       "4  236e9946-7801-4898-b609-06c8ab1139dc               False        True  "
      ]
     },
     "execution_count": 5,
     "metadata": {},
     "output_type": "execute_result"
    }
   ],
   "source": [
    "# 파이썬의 import를 활용해 데이터 분석용 패키지인 판다스(Pandas)를 읽어옵니다.\n",
    "import pandas as pd\n",
    "\n",
    "# 판다스 데이터프레임(DataFrame)을 출력할 때, 최대 출력할 수 있는 컬럼을 100개로 늘려줍니다.\n",
    "# 이렇게 해야 데이터를 분석할 때 출력해서 확인하기 편합니다.\n",
    "pd.options.display.max_columns = 100\n",
    "# 판다스(pandas)의 read_csv를 활용하여 크몽의 전환 정보(conversion) 관련 기록을 저장한 kmong-conversion.csv을 읽어옵니다.\n",
    "# 이 데이터를 raw_log라는 이름의 변수에 할당합니다.\n",
    "raw_log = pd.read_csv(\"data/kmong-conversion.csv\")\n",
    "\n",
    "# raw_log 변수에 할당된 데이터의 행렬 사이즈를 출력합니다.\n",
    "# 출력은 (row, column) 으로 표시됩니다.\n",
    "print(raw_log.shape)\n",
    "\n",
    "# head()로 raw_data 데이터의 상위 5개를 띄웁니다.\n",
    "raw_log.head()"
   ]
  },
  {
   "cell_type": "markdown",
   "metadata": {},
   "source": [
    "**6. ```inappeventcategory``` 컬럼에 들어가 있는 정보를 여러 개의 컬럼으로 나눠주세요.**\n",
    "\n",
    "```inappeventcategory```에는 사용자 액티비티를 나타내는 정보가 들어있습니다. 크몽에 방문한 고객이 상품 페이지를 보고 있는지, 구매를 진행중인지 등에 대한 정보가 이 컬럼에 담겨있다고 보시면 됩니다. 또한 ```inappeventcategory```에 있는 정보는 차후 퍼널(funnel) 데이터를 합치는데 사용되기도 합니다. 이 데이터를 정리해주세요. 정리 방식은 다음과 같습니다.\n",
    "\n",
    "  * ```viewcategory``` - ```inappeventcategory```에서 언더바(_)를 기준으로 왼쪽 텍스트만 가져옵니다. 언더바가 없을 경우 점(.)의 왼쪽 텍스트만 가져옵니다.\n",
    "  * ```viewid``` - ```inappeventcategory```에서 점(.)의 왼쪽 텍스트만 가져옵니다.\n",
    "  * ```viewaction``` - ```inappeventcategory```에서 점(.)의 오른쪽 텍스트만 가져옵니다.\n",
    "\n",
    "(팁: 파이썬에서 문자열을 나누는 기능인 [split](https://wikidocs.net/13#split)을 활용하면 생각보다 쉽게 문제를 풀 수 있습니다)\n",
    "  \n",
    "최종적으로는 다음의 결과가 나와야 합니다.\n"
   ]
  },
  {
   "cell_type": "markdown",
   "metadata": {},
   "source": [
    "<table border=\"1\" class=\"dataframe\" style=\"float: left;\">\n",
    "    <thead>\n",
    "        <tr style=\"text-align: right;\">\n",
    "            <th></th>\n",
    "            <th>inappeventcategory</th>\n",
    "            <th>viewcategory</th>\n",
    "            <th>viewid</th>\n",
    "            <th>viewaction</th>\n",
    "        </tr>\n",
    "    </thead>\n",
    "    <tbody>\n",
    "        <tr>\n",
    "            <th>0</th>\n",
    "            <td>home.view</td>\n",
    "            <td>home</td>\n",
    "            <td>home</td>\n",
    "            <td>view</td>\n",
    "        </tr>\n",
    "        <tr>\n",
    "            <th>1</th>\n",
    "            <td>gig_detail.view</td>\n",
    "            <td>gig</td>\n",
    "            <td>gig_detail</td>\n",
    "            <td>view</td>\n",
    "        </tr>\n",
    "        <tr>\n",
    "            <th>2</th>\n",
    "            <td>inbox_detail.view</td>\n",
    "            <td>inbox</td>\n",
    "            <td>inbox_detail</td>\n",
    "            <td>view</td>\n",
    "        </tr>\n",
    "        <tr>\n",
    "            <th>3</th>\n",
    "            <td>NaN</td>\n",
    "            <td>NaN</td>\n",
    "            <td>NaN</td>\n",
    "            <td>NaN</td>\n",
    "        </tr>\n",
    "        <tr>\n",
    "            <th>4</th>\n",
    "            <td>buyer_order_track.view</td>\n",
    "            <td>buyer</td>\n",
    "            <td>buyer_order_track</td>\n",
    "            <td>view</td>\n",
    "        </tr>\n",
    "    </tbody>\n",
    "</table>"
   ]
  },
  {
   "cell_type": "code",
   "execution_count": 6,
   "metadata": {},
   "outputs": [],
   "source": [
    "#inappeventcategoryd에서 viewcategory를 추출하는 \n",
    "#find_viewcategory라는 함수를 정희한다. \n",
    "def find_viewcategory(inappeventcategory):\n",
    "    #만일 inaooeventcategory값이 비어있으면 (NAN)\n",
    "    if pd.isnull(inappeventcategory):\n",
    "        #아무런 처리를 하지 않고 빈 값(NaN)을 반환 \n",
    "        return np.nan\n",
    "    \n",
    "    #inappeventcategory에서 점 (.)의 왼쪽을 가져옵니다. \n",
    "    #이 값을 chunk라는 이름의 변수에 할당합니다. \n",
    "    chunk = inappeventcategory.split(\".\")[0]\n",
    "    \n",
    "    #그리고 그 왼쪽에서 다시 한 번 언더바(_)의 왼쪽을 가져온다. \n",
    "    #이 값을 viewcategory라는 이름의 변수에 할당한다\n",
    "    viewcategory = chunk.split(\"_\")[0]\n",
    "    \n",
    "    #이 viewcategory라는 값을 반환한다. \n",
    "    return viewcategory"
   ]
  },
  {
   "cell_type": "code",
   "execution_count": 7,
   "metadata": {},
   "outputs": [
    {
     "data": {
      "text/plain": [
       "'home'"
      ]
     },
     "execution_count": 7,
     "metadata": {},
     "output_type": "execute_result"
    }
   ],
   "source": [
    "#find_viewcategory함수에 home.view라는 값을 인자로 넣으면 \n",
    "#(.)점 기준으로 가장 왼쪽에 있는 home이라는 값을 반환한다. \n",
    "find_viewcategory(\"home.view\")"
   ]
  },
  {
   "cell_type": "code",
   "execution_count": 8,
   "metadata": {},
   "outputs": [
    {
     "data": {
      "text/plain": [
       "'gig'"
      ]
     },
     "execution_count": 8,
     "metadata": {},
     "output_type": "execute_result"
    }
   ],
   "source": [
    "#find_viewcategory함수에 gig_detail.view라는 값을 인자로 넣으면 \n",
    "#언더바 (_)기준으로 가장 왼쪽에 있는 gig이라는 값을 반환한다. \n",
    "find_viewcategory(\"gig_detail.view\")"
   ]
  },
  {
   "cell_type": "code",
   "execution_count": 9,
   "metadata": {},
   "outputs": [],
   "source": [
    "#inappeventcategory에서 viewid를 추출하는 \n",
    "#find_view라는 함수를 정의한다. \n",
    "def find_viewid(inappeventcategory):\n",
    "    #만일 inappeventcategory값이 비어있으면 (NaN)\n",
    "    if pd.isnull(inappeventcategory):\n",
    "        #아무런 처리를 하지 않고 빈 값 (NaN)을 반환한다. \n",
    "        return np.nan\n",
    "    \n",
    "    #inappeventcategory에서 점(.) 의 왼쪽을 가져온다 \n",
    "    #이 값을 viewid라는 이름의 변수에 할당\n",
    "    viewid = inappeventcategory.split(\".\")[0]\n",
    "    \n",
    "    #이 viewid라는 값을 반환한다. \n",
    "    return viewid"
   ]
  },
  {
   "cell_type": "code",
   "execution_count": 10,
   "metadata": {},
   "outputs": [
    {
     "data": {
      "text/plain": [
       "'home'"
      ]
     },
     "execution_count": 10,
     "metadata": {},
     "output_type": "execute_result"
    }
   ],
   "source": [
    "# find_viewid 함수에 home.view라는 값을 인자로 넣으면 \n",
    "# 점 (.)기준으로 가장 왼쪽에 있는 home이라는 값을 반환한다. \n",
    "find_viewid(\"home.view\")"
   ]
  },
  {
   "cell_type": "code",
   "execution_count": 11,
   "metadata": {},
   "outputs": [
    {
     "data": {
      "text/plain": [
       "'gig_detail'"
      ]
     },
     "execution_count": 11,
     "metadata": {},
     "output_type": "execute_result"
    }
   ],
   "source": [
    "# find_viewid 함수에 gig_detail.view라는 값을 인자로 넣으면\n",
    "# 마찬가지로 점(.) 기준으로 가장 왼쪽에 있는 gig_detail이라는 값을 반환합니다.\n",
    "find_viewid(\"gig_detail.view\")"
   ]
  },
  {
   "cell_type": "code",
   "execution_count": 12,
   "metadata": {},
   "outputs": [],
   "source": [
    "# inappeventcategoryd에서 viewaction을 추출하는\n",
    "# find_viewaction이라는 함수를 정의합니다.\n",
    "def find_viewaction(inappeventcategory):\n",
    "    # 만일 inappeventcategory값이 비어있으면(NaN)\n",
    "    if pd.isnull(inappeventcategory):\n",
    "        # 아무런 처리를 하지 않고 빈 값(NaN)을 반환합니다.\n",
    "        return np.nan\n",
    "       # inappeventcategory에서 점(.)의 오른쪽을 가져옵니다.\n",
    "    # 이 값을 viewaction이라는 이름의 변수에 할당합니다.\n",
    "    viewaction = inappeventcategory.split(\".\")[1]\n",
    "    \n",
    "    # 이 viewaction이라는 값을 반환합니다.\n",
    "    return viewaction\n"
   ]
  },
  {
   "cell_type": "code",
   "execution_count": 13,
   "metadata": {},
   "outputs": [
    {
     "data": {
      "text/plain": [
       "'view'"
      ]
     },
     "execution_count": 13,
     "metadata": {},
     "output_type": "execute_result"
    }
   ],
   "source": [
    "# find_viewaction 함수에 home.view라는 값을 인자로 넣으면\n",
    "# 점(.) 기준으로 가장 오른쪽에 있는 view라는 값을 반환합니다\n",
    "find_viewaction(\"home.view\")"
   ]
  },
  {
   "cell_type": "code",
   "execution_count": 14,
   "metadata": {},
   "outputs": [
    {
     "data": {
      "text/plain": [
       "'view'"
      ]
     },
     "execution_count": 14,
     "metadata": {},
     "output_type": "execute_result"
    }
   ],
   "source": [
    "# find_viewaction 함수에 gig_detail.view라는 값을 인자로 넣으면\n",
    "# 마찬가지로 점(.) 기준으로 가장 오른쪽에 있는 view라는 값을 반환합니다.\n",
    "find_viewaction(\"gig_detail.view\")"
   ]
  },
  {
   "cell_type": "code",
   "execution_count": 15,
   "metadata": {},
   "outputs": [
    {
     "name": "stdout",
     "output_type": "stream",
     "text": [
      "(434244, 22)\n"
     ]
    },
    {
     "data": {
      "text/html": [
       "<div>\n",
       "<style scoped>\n",
       "    .dataframe tbody tr th:only-of-type {\n",
       "        vertical-align: middle;\n",
       "    }\n",
       "\n",
       "    .dataframe tbody tr th {\n",
       "        vertical-align: top;\n",
       "    }\n",
       "\n",
       "    .dataframe thead th {\n",
       "        text-align: right;\n",
       "    }\n",
       "</style>\n",
       "<table border=\"1\" class=\"dataframe\">\n",
       "  <thead>\n",
       "    <tr style=\"text-align: right;\">\n",
       "      <th></th>\n",
       "      <th>inappeventcategory</th>\n",
       "      <th>viewcategory</th>\n",
       "      <th>viewid</th>\n",
       "      <th>viewaction</th>\n",
       "    </tr>\n",
       "  </thead>\n",
       "  <tbody>\n",
       "    <tr>\n",
       "      <th>0</th>\n",
       "      <td>home.view</td>\n",
       "      <td>home</td>\n",
       "      <td>home</td>\n",
       "      <td>view</td>\n",
       "    </tr>\n",
       "    <tr>\n",
       "      <th>1</th>\n",
       "      <td>gig_detail.view</td>\n",
       "      <td>gig</td>\n",
       "      <td>gig_detail</td>\n",
       "      <td>view</td>\n",
       "    </tr>\n",
       "    <tr>\n",
       "      <th>2</th>\n",
       "      <td>inbox_detail.view</td>\n",
       "      <td>inbox</td>\n",
       "      <td>inbox_detail</td>\n",
       "      <td>view</td>\n",
       "    </tr>\n",
       "    <tr>\n",
       "      <th>3</th>\n",
       "      <td>NaN</td>\n",
       "      <td>NaN</td>\n",
       "      <td>NaN</td>\n",
       "      <td>NaN</td>\n",
       "    </tr>\n",
       "    <tr>\n",
       "      <th>4</th>\n",
       "      <td>buyer_order_track.view</td>\n",
       "      <td>buyer</td>\n",
       "      <td>buyer_order_track</td>\n",
       "      <td>view</td>\n",
       "    </tr>\n",
       "  </tbody>\n",
       "</table>\n",
       "</div>"
      ],
      "text/plain": [
       "       inappeventcategory viewcategory             viewid viewaction\n",
       "0               home.view         home               home       view\n",
       "1         gig_detail.view          gig         gig_detail       view\n",
       "2       inbox_detail.view        inbox       inbox_detail       view\n",
       "3                     NaN          NaN                NaN        NaN\n",
       "4  buyer_order_track.view        buyer  buyer_order_track       view"
      ]
     },
     "execution_count": 15,
     "metadata": {},
     "output_type": "execute_result"
    }
   ],
   "source": [
    "# 파이썬에서 수학 연산을 담당하는 numpy라는 패키지를 가져옵니다.\n",
    "# 이를 np라는 축약어로 사용합니다.\n",
    "import numpy as np\n",
    "\n",
    "# 위에서 구현한 세 개의 함수(find_viewcategory, find_viewid, find_viewaction)에\n",
    "# 판다스(Pandas)의 apply를 활용하여 viewcategory, viewid, viewaction를 추출합니다.\n",
    "# 이를 viewcategory, viewid, viewaction 라는 이름의 새로운 컬럼에 추가합니다.\n",
    "\n",
    "raw_log['viewcategory'] = raw_log['inappeventcategory'].apply(find_viewcategory)\n",
    "raw_log['viewid'] = raw_log['inappeventcategory'].apply(find_viewid)\n",
    "raw_log['viewaction'] = raw_log['inappeventcategory'].apply(find_viewaction)\n",
    "\n",
    "print(raw_log.shape)\n",
    "raw_log[['inappeventcategory', 'viewcategory', 'viewid', 'viewaction']].head()"
   ]
  },
  {
   "cell_type": "markdown",
   "metadata": {},
   "source": [
    "#########################################################################"
   ]
  },
  {
   "cell_type": "markdown",
   "metadata": {},
   "source": [
    "**7. 필요하지 않은 컬럼을 버려주세요.**\n",
    "\n",
    "여기까지 했으면 대부분의 컬럼이 잘 정리된 것 같습니다. 이제 남은 것은 필요하지 않은 컬럼을 버리고, 기존 컬럼의 이름을 직관적으로 수정하는 일들만 남았습니다. 먼저 필요하지 않은 컬럼을 제거하겠습니다. 다음의 컬럼을 데이터에서 제거해주세요.\n",
    "\n",
    "* ```osversion``` - 이제 이 컬럼을 버린 뒤 ```osversion(clean)```을 사용할 것입니다.\n",
    "* ```devicemanufacturer``` - 이제 이 컬럼을 버린 뒤 ```devicemanufacturer(clean)```을 사용할 것입니다.\n",
    "* ```canonicaldeviceuuid``` - 이제 이 컬럼을 버린 뒤 ```userid```를 사용할 것입니다.\n",
    "* ```channel``` - 이제 이 컬럼을 버린 뒤 ```channel(clean)```을 사용할 것입니다.\n",
    "* ```event_rank``` - 이 컬럼은 애초부터 사용할 필요가 없기 때문에 제거해줘도 됩니다.\n",
    "\n",
    "최종적으로는 다음의 결과가 나와야 합니다."
   ]
  },
  {
   "cell_type": "markdown",
   "metadata": {},
   "source": [
    "<table border=\"1\" class=\"dataframe\" style=\"float: left;\">\n",
    "    <thead>\n",
    "        <tr style=\"text-align: right;\">\n",
    "            <th></th>\n",
    "            <th>eventcategory</th>\n",
    "            <th>isfirstactivity</th>\n",
    "            <th>apppackagename</th>\n",
    "            <th>appversion</th>\n",
    "            <th>devicetype</th>\n",
    "            <th>sourcetype</th>\n",
    "            <th>params_campaign</th>\n",
    "            <th>params_medium</th>\n",
    "            <th>params_term</th>\n",
    "            <th>inappeventcategory</th>\n",
    "            <th>inappeventlabel</th>\n",
    "            <th>eventdatetime</th>\n",
    "            <th>rowuuid</th>\n",
    "            <th>isfirstgoalactivity</th>\n",
    "            <th>ostype(clean)</th>\n",
    "            <th>osversion(clean)</th>\n",
    "            <th>devicemanufacturer(clean)</th>\n",
    "            <th>userid</th>\n",
    "            <th>channel(clean)</th>\n",
    "            <th>eventdatetime_year</th>\n",
    "            <th>eventdatetime_month</th>\n",
    "            <th>eventdatetime_day</th>\n",
    "            <th>eventdatetime_hour</th>\n",
    "            <th>eventdatetime_minute</th>\n",
    "            <th>eventdatetime_second</th>\n",
    "            <th>viewid</th>\n",
    "            <th>viewaction</th>\n",
    "            <th>viewcategory</th>\n",
    "        </tr>\n",
    "    </thead>\n",
    "    <tbody>\n",
    "        <tr>\n",
    "            <th>0</th>\n",
    "            <td>goal</td>\n",
    "            <td>False</td>\n",
    "            <td>com.kmong.iOS</td>\n",
    "            <td>4.0.4</td>\n",
    "            <td>iPhone</td>\n",
    "            <td>unattributed</td>\n",
    "            <td>NaN</td>\n",
    "            <td>NaN</td>\n",
    "            <td>NaN</td>\n",
    "            <td>home.view</td>\n",
    "            <td>NaN</td>\n",
    "            <td>2018-09-27 15:00:00</td>\n",
    "            <td>fd2a188c-bc9b-4702-9c47-b546b2614817</td>\n",
    "            <td>False</td>\n",
    "            <td>iOS</td>\n",
    "            <td>11.4.1</td>\n",
    "            <td>Apple</td>\n",
    "            <td>F36FAA62-ADAC-4AA5-9B00-1FD6CB7EE957</td>\n",
    "            <td>unattributed</td>\n",
    "            <td>2018</td>\n",
    "            <td>9</td>\n",
    "            <td>27</td>\n",
    "            <td>15</td>\n",
    "            <td>0</td>\n",
    "            <td>0</td>\n",
    "            <td>home</td>\n",
    "            <td>view</td>\n",
    "            <td>home</td>\n",
    "        </tr>\n",
    "        <tr>\n",
    "            <th>1</th>\n",
    "            <td>goal</td>\n",
    "            <td>False</td>\n",
    "            <td>com.kmong.kmong</td>\n",
    "            <td>3.3.5</td>\n",
    "            <td>SM-N935S</td>\n",
    "            <td>unattributed</td>\n",
    "            <td>NaN</td>\n",
    "            <td>NaN</td>\n",
    "            <td>NaN</td>\n",
    "            <td>gig_detail.view</td>\n",
    "            <td>41201.0</td>\n",
    "            <td>2018-09-27 15:00:00</td>\n",
    "            <td>e62dccef-dd70-4415-8a33-c8324ddaed38</td>\n",
    "            <td>False</td>\n",
    "            <td>Android</td>\n",
    "            <td>7.0</td>\n",
    "            <td>Samsung</td>\n",
    "            <td>8a871e50-0717-4aed-9bad-04ac3c3793be</td>\n",
    "            <td>unattributed</td>\n",
    "            <td>2018</td>\n",
    "            <td>9</td>\n",
    "            <td>27</td>\n",
    "            <td>15</td>\n",
    "            <td>0</td>\n",
    "            <td>0</td>\n",
    "            <td>gig_detail</td>\n",
    "            <td>view</td>\n",
    "            <td>gig</td>\n",
    "        </tr>\n",
    "        <tr>\n",
    "            <th>2</th>\n",
    "            <td>goal</td>\n",
    "            <td>False</td>\n",
    "            <td>com.kmong.iOS</td>\n",
    "            <td>4.0.4</td>\n",
    "            <td>iPhone</td>\n",
    "            <td>unattributed</td>\n",
    "            <td>NaN</td>\n",
    "            <td>NaN</td>\n",
    "            <td>NaN</td>\n",
    "            <td>inbox_detail.view</td>\n",
    "            <td>NaN</td>\n",
    "            <td>2018-09-27 15:00:00</td>\n",
    "            <td>14eb3197-db83-493a-b7be-83582960c40b</td>\n",
    "            <td>False</td>\n",
    "            <td>iOS</td>\n",
    "            <td>12.0</td>\n",
    "            <td>Apple</td>\n",
    "            <td>A9E5778A-8F3D-4597-9718-74BF953A9F64</td>\n",
    "            <td>unattributed</td>\n",
    "            <td>2018</td>\n",
    "            <td>9</td>\n",
    "            <td>27</td>\n",
    "            <td>15</td>\n",
    "            <td>0</td>\n",
    "            <td>0</td>\n",
    "            <td>inbox_detail</td>\n",
    "            <td>view</td>\n",
    "            <td>inbox</td>\n",
    "        </tr>\n",
    "        <tr>\n",
    "            <th>3</th>\n",
    "            <td>foreground</td>\n",
    "            <td>NaN</td>\n",
    "            <td>com.kmong.iOS</td>\n",
    "            <td>4.0.4</td>\n",
    "            <td>iPhone</td>\n",
    "            <td>NaN</td>\n",
    "            <td>NaN</td>\n",
    "            <td>NaN</td>\n",
    "            <td>NaN</td>\n",
    "            <td>NaN</td>\n",
    "            <td>NaN</td>\n",
    "            <td>2018-09-27 15:00:01</td>\n",
    "            <td>f9bb91af-248b-44dc-9f5c-1c00b37ea97b</td>\n",
    "            <td>NaN</td>\n",
    "            <td>iOS</td>\n",
    "            <td>11.4.1</td>\n",
    "            <td>Apple</td>\n",
    "            <td>168761CB-CB67-4592-867D-52780D651297</td>\n",
    "            <td>NaN</td>\n",
    "            <td>2018</td>\n",
    "            <td>9</td>\n",
    "            <td>27</td>\n",
    "            <td>15</td>\n",
    "            <td>0</td>\n",
    "            <td>1</td>\n",
    "            <td>NaN</td>\n",
    "            <td>NaN</td>\n",
    "            <td>NaN</td>\n",
    "        </tr>\n",
    "        <tr>\n",
    "            <th>4</th>\n",
    "            <td>goal</td>\n",
    "            <td>False</td>\n",
    "            <td>com.kmong.iOS</td>\n",
    "            <td>4.0.4</td>\n",
    "            <td>iPhone</td>\n",
    "            <td>viral</td>\n",
    "            <td>NaN</td>\n",
    "            <td>NaN</td>\n",
    "            <td>NaN</td>\n",
    "            <td>buyer_order_track.view</td>\n",
    "            <td>NaN</td>\n",
    "            <td>2018-09-27 15:00:02</td>\n",
    "            <td>236e9946-7801-4898-b609-06c8ab1139dc</td>\n",
    "            <td>False</td>\n",
    "            <td>iOS</td>\n",
    "            <td>11.4.1</td>\n",
    "            <td>Apple</td>\n",
    "            <td>ACABB7C0-4C76-413A-B314-E5D6DA0D0E5D</td>\n",
    "            <td>web</td>\n",
    "            <td>2018</td>\n",
    "            <td>9</td>\n",
    "            <td>27</td>\n",
    "            <td>15</td>\n",
    "            <td>0</td>\n",
    "            <td>2</td>\n",
    "            <td>buyer_order_track</td>\n",
    "            <td>view</td>\n",
    "            <td>buyer</td>\n",
    "        </tr>\n",
    "    </tbody>\n",
    "</table>"
   ]
  },
  {
   "cell_type": "code",
   "execution_count": null,
   "metadata": {},
   "outputs": [],
   "source": []
  },
  {
   "cell_type": "code",
   "execution_count": null,
   "metadata": {},
   "outputs": [],
   "source": []
  },
  {
   "cell_type": "code",
   "execution_count": null,
   "metadata": {},
   "outputs": [],
   "source": []
  },
  {
   "cell_type": "code",
   "execution_count": null,
   "metadata": {},
   "outputs": [],
   "source": []
  },
  {
   "cell_type": "code",
   "execution_count": null,
   "metadata": {},
   "outputs": [],
   "source": []
  },
  {
   "cell_type": "code",
   "execution_count": null,
   "metadata": {},
   "outputs": [],
   "source": []
  },
  {
   "cell_type": "code",
   "execution_count": null,
   "metadata": {},
   "outputs": [],
   "source": []
  }
 ],
 "metadata": {
  "kernelspec": {
   "display_name": "Python 3",
   "language": "python",
   "name": "python3"
  },
  "language_info": {
   "codemirror_mode": {
    "name": "ipython",
    "version": 3
   },
   "file_extension": ".py",
   "mimetype": "text/x-python",
   "name": "python",
   "nbconvert_exporter": "python",
   "pygments_lexer": "ipython3",
   "version": "3.7.3"
  }
 },
 "nbformat": 4,
 "nbformat_minor": 2
}
